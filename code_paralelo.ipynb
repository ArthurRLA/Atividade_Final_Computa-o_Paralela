{
  "cells": [
    {
      "cell_type": "code",
      "execution_count": null,
      "metadata": {
        "colab": {
          "base_uri": "https://localhost:8080/"
        },
        "collapsed": true,
        "id": "st6YFx09Ga9q",
        "outputId": "85382ac9-0278-469c-cbf4-dc7890e00e51"
      },
      "outputs": [
        {
          "output_type": "stream",
          "name": "stdout",
          "text": [
            "Collecting pycuda\n",
            "  Downloading pycuda-2024.1.tar.gz (1.7 MB)\n",
            "\u001b[2K     \u001b[90m━━━━━━━━━━━━━━━━━━━━━━━━━━━━━━━━━━━━━━━━\u001b[0m \u001b[32m1.7/1.7 MB\u001b[0m \u001b[31m9.9 MB/s\u001b[0m eta \u001b[36m0:00:00\u001b[0m\n",
            "\u001b[?25h  Installing build dependencies ... \u001b[?25l\u001b[?25hdone\n",
            "  Getting requirements to build wheel ... \u001b[?25l\u001b[?25hdone\n",
            "  Preparing metadata (pyproject.toml) ... \u001b[?25l\u001b[?25hdone\n",
            "Collecting pytools>=2011.2 (from pycuda)\n",
            "  Downloading pytools-2024.1.10-py3-none-any.whl (88 kB)\n",
            "\u001b[2K     \u001b[90m━━━━━━━━━━━━━━━━━━━━━━━━━━━━━━━━━━━━━━━━\u001b[0m \u001b[32m88.1/88.1 kB\u001b[0m \u001b[31m13.2 MB/s\u001b[0m eta \u001b[36m0:00:00\u001b[0m\n",
            "\u001b[?25hCollecting appdirs>=1.4.0 (from pycuda)\n",
            "  Downloading appdirs-1.4.4-py2.py3-none-any.whl (9.6 kB)\n",
            "Collecting mako (from pycuda)\n",
            "  Downloading Mako-1.3.5-py3-none-any.whl (78 kB)\n",
            "\u001b[2K     \u001b[90m━━━━━━━━━━━━━━━━━━━━━━━━━━━━━━━━━━━━━━━━\u001b[0m \u001b[32m78.6/78.6 kB\u001b[0m \u001b[31m11.7 MB/s\u001b[0m eta \u001b[36m0:00:00\u001b[0m\n",
            "\u001b[?25hRequirement already satisfied: platformdirs>=2.2 in /usr/local/lib/python3.10/dist-packages (from pytools>=2011.2->pycuda) (4.2.2)\n",
            "Collecting siphash24>=1.6 (from pytools>=2011.2->pycuda)\n",
            "  Downloading siphash24-1.6-cp310-cp310-manylinux_2_17_x86_64.manylinux2014_x86_64.whl (106 kB)\n",
            "\u001b[2K     \u001b[90m━━━━━━━━━━━━━━━━━━━━━━━━━━━━━━━━━━━━━━━━\u001b[0m \u001b[32m106.2/106.2 kB\u001b[0m \u001b[31m15.8 MB/s\u001b[0m eta \u001b[36m0:00:00\u001b[0m\n",
            "\u001b[?25hRequirement already satisfied: typing-extensions>=4 in /usr/local/lib/python3.10/dist-packages (from pytools>=2011.2->pycuda) (4.12.2)\n",
            "Requirement already satisfied: MarkupSafe>=0.9.2 in /usr/local/lib/python3.10/dist-packages (from mako->pycuda) (2.1.5)\n",
            "Building wheels for collected packages: pycuda\n",
            "  Building wheel for pycuda (pyproject.toml) ... \u001b[?25l\u001b[?25hdone\n",
            "  Created wheel for pycuda: filename=pycuda-2024.1-cp310-cp310-linux_x86_64.whl size=661202 sha256=68c51c9cf05584db149d81af464db0859fd78be2b1f9bfa88ecb1e6a4bc1c07c\n",
            "  Stored in directory: /root/.cache/pip/wheels/12/34/d2/9a349255a4eca3a486d82c79d21e138ce2ccd90f414d9d72b8\n",
            "Successfully built pycuda\n",
            "Installing collected packages: appdirs, siphash24, mako, pytools, pycuda\n",
            "Successfully installed appdirs-1.4.4 mako-1.3.5 pycuda-2024.1 pytools-2024.1.10 siphash24-1.6\n",
            "Requirement already satisfied: matplotlib in /usr/local/lib/python3.10/dist-packages (3.7.1)\n",
            "Requirement already satisfied: contourpy>=1.0.1 in /usr/local/lib/python3.10/dist-packages (from matplotlib) (1.2.1)\n",
            "Requirement already satisfied: cycler>=0.10 in /usr/local/lib/python3.10/dist-packages (from matplotlib) (0.12.1)\n",
            "Requirement already satisfied: fonttools>=4.22.0 in /usr/local/lib/python3.10/dist-packages (from matplotlib) (4.53.1)\n",
            "Requirement already satisfied: kiwisolver>=1.0.1 in /usr/local/lib/python3.10/dist-packages (from matplotlib) (1.4.5)\n",
            "Requirement already satisfied: numpy>=1.20 in /usr/local/lib/python3.10/dist-packages (from matplotlib) (1.25.2)\n",
            "Requirement already satisfied: packaging>=20.0 in /usr/local/lib/python3.10/dist-packages (from matplotlib) (24.1)\n",
            "Requirement already satisfied: pillow>=6.2.0 in /usr/local/lib/python3.10/dist-packages (from matplotlib) (9.4.0)\n",
            "Requirement already satisfied: pyparsing>=2.3.1 in /usr/local/lib/python3.10/dist-packages (from matplotlib) (3.1.2)\n",
            "Requirement already satisfied: python-dateutil>=2.7 in /usr/local/lib/python3.10/dist-packages (from matplotlib) (2.8.2)\n",
            "Requirement already satisfied: six>=1.5 in /usr/local/lib/python3.10/dist-packages (from python-dateutil>=2.7->matplotlib) (1.16.0)\n",
            "Requirement already satisfied: scikit-learn in /usr/local/lib/python3.10/dist-packages (1.2.2)\n",
            "Requirement already satisfied: numpy>=1.17.3 in /usr/local/lib/python3.10/dist-packages (from scikit-learn) (1.25.2)\n",
            "Requirement already satisfied: scipy>=1.3.2 in /usr/local/lib/python3.10/dist-packages (from scikit-learn) (1.11.4)\n",
            "Requirement already satisfied: joblib>=1.1.1 in /usr/local/lib/python3.10/dist-packages (from scikit-learn) (1.4.2)\n",
            "Requirement already satisfied: threadpoolctl>=2.0.0 in /usr/local/lib/python3.10/dist-packages (from scikit-learn) (3.5.0)\n"
          ]
        }
      ],
      "source": [
        "!pip install pycuda\n",
        "!pip install matplotlib\n",
        "!pip install scikit-learn\n"
      ]
    },
    {
      "cell_type": "code",
      "source": [
        "from google.colab import drive\n",
        "drive.mount('/content/drive')"
      ],
      "metadata": {
        "colab": {
          "base_uri": "https://localhost:8080/"
        },
        "id": "IaMfLdpIDqyX",
        "outputId": "07c90d9a-ced3-4e42-d593-2d5da6ebf310"
      },
      "execution_count": null,
      "outputs": [
        {
          "output_type": "stream",
          "name": "stdout",
          "text": [
            "Drive already mounted at /content/drive; to attempt to forcibly remount, call drive.mount(\"/content/drive\", force_remount=True).\n"
          ]
        }
      ]
    },
    {
      "cell_type": "code",
      "execution_count": null,
      "metadata": {
        "id": "IzhMTMxoHO1l"
      },
      "outputs": [],
      "source": [
        "import os\n",
        "import cv2\n",
        "import pandas as pd\n",
        "import numpy as np\n",
        "import matplotlib.pyplot as plt\n",
        "import pycuda.autoinit\n",
        "import pycuda.driver as cuda\n",
        "from pycuda.compiler import SourceModule\n",
        "from sklearn.preprocessing import OneHotEncoder\n",
        "from sklearn.model_selection import train_test_split\n",
        "import time\n",
        "\n",
        "HIDDEN_NODES = 128\n",
        "OUTPUT_NODES = 20\n",
        "LEARNING_RATE = 0.01\n",
        "NUM_EPOCHS = 100\n",
        "BATCH_SIZE = 64"
      ]
    },
    {
      "cell_type": "code",
      "source": [
        "base_path = '/content/drive/MyDrive/faces'\n",
        "def load_images(base_path):\n",
        "    images_30x32 = []\n",
        "    images_60x64 = []\n",
        "    images_120x128 = []\n",
        "    labels_30x32 = []\n",
        "    labels_60x64 = []\n",
        "    labels_120x128 = []\n",
        "\n",
        "    for person_folder in os.listdir(base_path):\n",
        "        person_path = os.path.join(base_path, person_folder)\n",
        "        if os.path.isdir(person_path):\n",
        "            for image_file in os.listdir(person_path):\n",
        "                if image_file.lower().endswith('.pgm'):\n",
        "                    image_path = os.path.join(person_path, image_file)\n",
        "                    image = cv2.imread(image_path, cv2.IMREAD_GRAYSCALE)\n",
        "                    if image is not None:\n",
        "                        if image.shape == (30, 32):\n",
        "                            images_30x32.append(image.flatten())\n",
        "                            labels_30x32.append(person_folder)\n",
        "                        elif image.shape == (60, 64):\n",
        "                            images_60x64.append(image.flatten())\n",
        "                            labels_60x64.append(person_folder)\n",
        "                        elif image.shape == (120, 128):\n",
        "                            images_120x128.append(image.flatten())\n",
        "                            labels_120x128.append(person_folder)\n",
        "\n",
        "\n",
        "    return (images_30x32, labels_30x32), (images_60x64, labels_60x64), (images_120x128, labels_120x128)\n",
        "\n",
        "(images_30x32, labels_30x32), (images_60x64, labels_60x64), (images_120x128, labels_120x128) = load_images(base_path)\n",
        "\n",
        "print(f\"Imagens 30x32: {len(images_30x32)}\")\n",
        "print(f\"Imagens 60x64: {len(images_60x64)}\")\n",
        "print(f\"Imagens 120x128: {len(images_120x128)}\")\n",
        "\n",
        "df_30x32 = pd.DataFrame(images_30x32)\n",
        "df_30x32['label'] = labels_30x32\n",
        "\n",
        "df_60x64 = pd.DataFrame(images_60x64)\n",
        "df_60x64['label'] = labels_60x64\n",
        "\n",
        "df_120x128 = pd.DataFrame(images_120x128)\n",
        "df_120x128['label'] = labels_120x128"
      ],
      "metadata": {
        "colab": {
          "base_uri": "https://localhost:8080/"
        },
        "id": "Dnc3HiMwyHLi",
        "outputId": "330421ce-becc-4209-97a7-ec5cc6624471",
        "collapsed": true
      },
      "execution_count": null,
      "outputs": [
        {
          "output_type": "stream",
          "name": "stdout",
          "text": [
            "Imagens 30x32: 626\n",
            "Imagens 60x64: 624\n",
            "Imagens 120x128: 625\n"
          ]
        }
      ]
    },
    {
      "cell_type": "code",
      "source": [
        "def split_data(df):\n",
        "    if len(df) == 0:\n",
        "        return np.array([]), np.array([]), np.array([]), np.array([])\n",
        "    X = df.drop('label', axis=1).values\n",
        "    y = df['label'].values\n",
        "    X_train, X_val, y_train, y_val = train_test_split(X, y, test_size=0.2, random_state=42)\n",
        "    return X_train, X_val, y_train, y_val\n",
        "\n",
        "splits = {\n",
        "    '30x32': split_data(df_30x32),\n",
        "    '60x64': split_data(df_60x64),\n",
        "    '120x128': split_data(df_120x128)\n",
        "}"
      ],
      "metadata": {
        "id": "oz0OQbIGEnMn"
      },
      "execution_count": null,
      "outputs": []
    },
    {
      "cell_type": "code",
      "source": [
        "def get_cuda_source(input_nodes):\n",
        "    return f\"\"\"\n",
        "    #define INPUT_NODES {input_nodes}\n",
        "    #define HIDDEN_NODES {HIDDEN_NODES}\n",
        "    #define OUTPUT_NODES {OUTPUT_NODES}\n",
        "    #define LEARNING_RATE {LEARNING_RATE}\n",
        "\n",
        "    __device__ float sigmoid(float x) {{\n",
        "        return 1.0 / (1.0 + expf(-x));\n",
        "    }}\n",
        "\n",
        "    __global__ void forward_pass(float *input, float *hidden_weights, float *hidden_output, float *output_weights, float *final_output) {{\n",
        "        int idx = threadIdx.x;\n",
        "\n",
        "        if (idx < HIDDEN_NODES) {{\n",
        "            float sum = 0.0f;\n",
        "            for (int i = 0; i < INPUT_NODES; ++i) {{\n",
        "                sum += input[i] * hidden_weights[idx * INPUT_NODES + i];\n",
        "            }}\n",
        "            hidden_output[idx] = sigmoid(sum);\n",
        "        }}\n",
        "\n",
        "        __syncthreads();\n",
        "\n",
        "        if (idx < OUTPUT_NODES) {{\n",
        "            float sum = 0.0f;\n",
        "            for (int i = 0; i < HIDDEN_NODES; ++i) {{\n",
        "                sum += hidden_output[i] * output_weights[idx * HIDDEN_NODES + i];\n",
        "            }}\n",
        "            final_output[idx] = sigmoid(sum);\n",
        "        }}\n",
        "    }}\n",
        "\n",
        "    __global__ void backpropagation(float *input, float *hidden_weights, float *hidden_output, float *output_weights, float *final_output, float *target, float *hidden_delta, float *output_delta) {{\n",
        "        int idx = threadIdx.x;\n",
        "\n",
        "        if (idx < OUTPUT_NODES) {{\n",
        "            float error = target[idx] - final_output[idx];\n",
        "            output_delta[idx] = error * final_output[idx] * (1.0f - final_output[idx]);\n",
        "        }}\n",
        "\n",
        "        __syncthreads();\n",
        "\n",
        "        if (idx < HIDDEN_NODES) {{\n",
        "            float error = 0.0f;\n",
        "            for (int i = 0; i < OUTPUT_NODES; ++i) {{\n",
        "                error += output_delta[i] * output_weights[i * HIDDEN_NODES + idx];\n",
        "            }}\n",
        "            hidden_delta[idx] = error * hidden_output[idx] * (1.0f - hidden_output[idx]);\n",
        "        }}\n",
        "\n",
        "        __syncthreads();\n",
        "\n",
        "        if (idx < OUTPUT_NODES) {{\n",
        "            for (int i = 0; i < HIDDEN_NODES; ++i) {{\n",
        "                output_weights[idx * HIDDEN_NODES + i] += LEARNING_RATE * output_delta[idx] * hidden_output[i];\n",
        "            }}\n",
        "        }}\n",
        "\n",
        "        if (idx < HIDDEN_NODES) {{\n",
        "            for (int i = 0; i < INPUT_NODES; ++i) {{\n",
        "                hidden_weights[idx * INPUT_NODES + i] += LEARNING_RATE * hidden_delta[idx] * input[i];\n",
        "            }}\n",
        "        }}\n",
        "    }}\n",
        "    \"\"\"\n"
      ],
      "metadata": {
        "id": "b9f_0NdAE0fY"
      },
      "execution_count": null,
      "outputs": []
    },
    {
      "cell_type": "code",
      "source": [
        "resolution = '30x32'\n",
        "\n",
        "# MUDAR A RESOLUÇ˜AO\n",
        "INPUT_NODES = int(resolution.split('x')[0]) * int(resolution.split('x')[1])\n",
        "\n",
        "mod = SourceModule(get_cuda_source(INPUT_NODES))\n",
        "forward_pass = mod.get_function(\"forward_pass\")\n",
        "backpropagation = mod.get_function(\"backpropagation\")\n",
        "\n",
        "np.random.seed(42)\n",
        "hidden_weights = (np.random.rand(INPUT_NODES, HIDDEN_NODES) - 0.5).astype(np.float32)\n",
        "output_weights = (np.random.rand(HIDDEN_NODES, OUTPUT_NODES) - 0.5).astype(np.float32)\n",
        "\n",
        "d_input = cuda.mem_alloc(INPUT_NODES * np.float32().nbytes)\n",
        "d_hidden_weights = cuda.mem_alloc(hidden_weights.nbytes)\n",
        "d_output_weights = cuda.mem_alloc(output_weights.nbytes)\n",
        "d_hidden_output = cuda.mem_alloc(HIDDEN_NODES * np.float32().nbytes)\n",
        "d_final_output = cuda.mem_alloc(OUTPUT_NODES * np.float32().nbytes)\n",
        "d_target = cuda.mem_alloc(OUTPUT_NODES * np.float32().nbytes)\n",
        "d_hidden_delta = cuda.mem_alloc(HIDDEN_NODES * np.float32().nbytes)\n",
        "d_output_delta = cuda.mem_alloc(OUTPUT_NODES * np.float32().nbytes)\n",
        "\n",
        "cuda.memcpy_htod(d_hidden_weights, hidden_weights)\n",
        "cuda.memcpy_htod(d_output_weights, output_weights)\n"
      ],
      "metadata": {
        "id": "5ls7wZskE2s6",
        "colab": {
          "base_uri": "https://localhost:8080/"
        },
        "outputId": "2b8f65b1-fbae-4c26-cc65-7281ee3f8f5c"
      },
      "execution_count": null,
      "outputs": [
        {
          "output_type": "stream",
          "name": "stderr",
          "text": [
            "/usr/local/lib/python3.10/dist-packages/google/colab/_variable_inspector.py:27: UserWarning: module in out-of-thread context could not be cleaned up\n",
            "  globals().clear()\n",
            "/usr/local/lib/python3.10/dist-packages/google/colab/_variable_inspector.py:27: UserWarning: device_allocation in out-of-thread context could not be cleaned up\n",
            "  globals().clear()\n"
          ]
        }
      ]
    },
    {
      "cell_type": "code",
      "source": [
        "encoder = OneHotEncoder(sparse_output=False)\n",
        "encoded_splits = {}\n",
        "y_train_encoded = encoder.fit_transform(splits[resolution][2].reshape(-1, 1))\n",
        "y_val_encoded = encoder.transform(splits[resolution][3].reshape(-1, 1))\n",
        "encoded_splits[resolution] = {\n",
        "    'X_train': splits[resolution][0],\n",
        "    'X_val': splits[resolution][1],\n",
        "    'y_train': y_train_encoded,\n",
        "    'y_val': y_val_encoded\n",
        "}\n",
        "def evaluate(X_val, y_val):\n",
        "    correct_predictions = 0\n",
        "    for i in range(len(X_val)):\n",
        "        cuda.memcpy_htod(d_input, X_val[i].astype(np.float32))\n",
        "        forward_pass(d_input, d_hidden_weights, d_hidden_output, d_output_weights, d_final_output, block=(max(HIDDEN_NODES, OUTPUT_NODES), 1, 1))\n",
        "        final_output = np.empty(OUTPUT_NODES, dtype=np.float32)\n",
        "        cuda.memcpy_dtoh(final_output, d_final_output)\n",
        "        if np.argmax(final_output) == np.argmax(y_val[i]):\n",
        "            correct_predictions += 1\n",
        "    accuracy = correct_predictions / len(X_val)\n",
        "    return accuracy\n"
      ],
      "metadata": {
        "id": "oh61-QQgE6VN"
      },
      "execution_count": null,
      "outputs": []
    },
    {
      "cell_type": "code",
      "source": [
        "accuracies = []\n",
        "start_time = time.time()\n",
        "X_train = encoded_splits[resolution]['X_train']\n",
        "X_val = encoded_splits[resolution]['X_val']\n",
        "y_train_encoded = encoded_splits[resolution]['y_train']\n",
        "y_val_encoded = encoded_splits[resolution]['y_val']\n",
        "\n",
        "threads_per_block = 128\n",
        "blocks_hidden = (HIDDEN_NODES + threads_per_block - 1) // threads_per_block\n",
        "blocks_output = (OUTPUT_NODES + threads_per_block - 1) // threads_per_block\n",
        "\n",
        "for epoch in range(NUM_EPOCHS):\n",
        "    for i in range(0, len(X_train), BATCH_SIZE):\n",
        "        batch_X = X_train[i:i+BATCH_SIZE]\n",
        "        batch_y = y_train_encoded[i:i+BATCH_SIZE]\n",
        "\n",
        "        for j in range(len(batch_X)):\n",
        "            cuda.memcpy_htod(d_input, batch_X[j].astype(np.float32))\n",
        "            cuda.memcpy_htod(d_target, batch_y[j].astype(np.float32))\n",
        "\n",
        "            forward_pass(d_input, d_hidden_weights, d_hidden_output, d_output_weights, d_final_output, block=(threads_per_block, 1, 1), grid=(blocks_hidden, 1, 1))\n",
        "            backpropagation(d_input, d_hidden_weights, d_hidden_output, d_output_weights, d_final_output, d_target, d_hidden_delta, d_output_delta, block=(threads_per_block, 1, 1), grid=(blocks_output, 1, 1))\n",
        "\n",
        "    accuracy = evaluate(X_val, y_val_encoded)\n",
        "    accuracies.append(accuracy)\n",
        "\n",
        "end_time = time.time()\n",
        "execution_time = end_time - start_time\n"
      ],
      "metadata": {
        "id": "ka2LnFdhE8nu",
        "colab": {
          "base_uri": "https://localhost:8080/"
        },
        "outputId": "ed5b79bc-643b-46a0-f598-f931d008f813"
      },
      "execution_count": null,
      "outputs": [
        {
          "output_type": "stream",
          "name": "stdout",
          "text": [
            "Epoch 1/100, Accuracy: 0.1270\n",
            "Epoch 2/100, Accuracy: 0.1270\n",
            "Epoch 3/100, Accuracy: 0.1508\n",
            "Epoch 4/100, Accuracy: 0.1270\n",
            "Epoch 5/100, Accuracy: 0.1746\n",
            "Epoch 6/100, Accuracy: 0.1825\n",
            "Epoch 7/100, Accuracy: 0.2222\n",
            "Epoch 8/100, Accuracy: 0.2222\n",
            "Epoch 9/100, Accuracy: 0.2381\n",
            "Epoch 10/100, Accuracy: 0.2381\n",
            "Epoch 11/100, Accuracy: 0.2143\n",
            "Epoch 12/100, Accuracy: 0.2619\n",
            "Epoch 13/100, Accuracy: 0.2857\n",
            "Epoch 14/100, Accuracy: 0.3254\n",
            "Epoch 15/100, Accuracy: 0.3413\n",
            "Epoch 16/100, Accuracy: 0.3175\n",
            "Epoch 17/100, Accuracy: 0.3016\n",
            "Epoch 18/100, Accuracy: 0.3333\n",
            "Epoch 19/100, Accuracy: 0.3333\n",
            "Epoch 20/100, Accuracy: 0.4206\n",
            "Epoch 21/100, Accuracy: 0.3889\n",
            "Epoch 22/100, Accuracy: 0.3889\n",
            "Epoch 23/100, Accuracy: 0.3968\n",
            "Epoch 24/100, Accuracy: 0.3889\n",
            "Epoch 25/100, Accuracy: 0.4127\n",
            "Epoch 26/100, Accuracy: 0.3968\n",
            "Epoch 27/100, Accuracy: 0.4683\n",
            "Epoch 28/100, Accuracy: 0.4365\n",
            "Epoch 29/100, Accuracy: 0.4365\n",
            "Epoch 30/100, Accuracy: 0.3968\n",
            "Epoch 31/100, Accuracy: 0.4524\n",
            "Epoch 32/100, Accuracy: 0.4286\n",
            "Epoch 33/100, Accuracy: 0.4524\n",
            "Epoch 34/100, Accuracy: 0.4762\n",
            "Epoch 35/100, Accuracy: 0.4921\n",
            "Epoch 36/100, Accuracy: 0.5079\n",
            "Epoch 37/100, Accuracy: 0.5079\n",
            "Epoch 38/100, Accuracy: 0.5238\n",
            "Epoch 39/100, Accuracy: 0.5714\n",
            "Epoch 40/100, Accuracy: 0.5317\n",
            "Epoch 41/100, Accuracy: 0.5556\n",
            "Epoch 42/100, Accuracy: 0.5556\n",
            "Epoch 43/100, Accuracy: 0.5397\n",
            "Epoch 44/100, Accuracy: 0.5556\n",
            "Epoch 45/100, Accuracy: 0.5952\n",
            "Epoch 46/100, Accuracy: 0.6032\n",
            "Epoch 47/100, Accuracy: 0.5714\n",
            "Epoch 48/100, Accuracy: 0.5159\n",
            "Epoch 49/100, Accuracy: 0.5397\n",
            "Epoch 50/100, Accuracy: 0.5556\n",
            "Epoch 51/100, Accuracy: 0.5714\n",
            "Epoch 52/100, Accuracy: 0.6032\n",
            "Epoch 53/100, Accuracy: 0.5952\n",
            "Epoch 54/100, Accuracy: 0.6032\n",
            "Epoch 55/100, Accuracy: 0.6032\n",
            "Epoch 56/100, Accuracy: 0.6270\n",
            "Epoch 57/100, Accuracy: 0.6111\n",
            "Epoch 58/100, Accuracy: 0.6429\n",
            "Epoch 59/100, Accuracy: 0.6429\n",
            "Epoch 60/100, Accuracy: 0.6905\n",
            "Epoch 61/100, Accuracy: 0.6667\n",
            "Epoch 62/100, Accuracy: 0.6984\n",
            "Epoch 63/100, Accuracy: 0.6905\n",
            "Epoch 64/100, Accuracy: 0.6349\n",
            "Epoch 65/100, Accuracy: 0.6349\n",
            "Epoch 66/100, Accuracy: 0.6508\n",
            "Epoch 67/100, Accuracy: 0.6508\n",
            "Epoch 68/100, Accuracy: 0.6825\n",
            "Epoch 69/100, Accuracy: 0.6667\n",
            "Epoch 70/100, Accuracy: 0.6587\n",
            "Epoch 71/100, Accuracy: 0.6508\n",
            "Epoch 72/100, Accuracy: 0.6349\n",
            "Epoch 73/100, Accuracy: 0.6508\n",
            "Epoch 74/100, Accuracy: 0.6429\n",
            "Epoch 75/100, Accuracy: 0.6667\n",
            "Epoch 76/100, Accuracy: 0.6667\n",
            "Epoch 77/100, Accuracy: 0.6905\n",
            "Epoch 78/100, Accuracy: 0.6667\n",
            "Epoch 79/100, Accuracy: 0.6746\n",
            "Epoch 80/100, Accuracy: 0.6508\n",
            "Epoch 81/100, Accuracy: 0.6825\n",
            "Epoch 82/100, Accuracy: 0.6746\n",
            "Epoch 83/100, Accuracy: 0.6905\n",
            "Epoch 84/100, Accuracy: 0.6746\n",
            "Epoch 85/100, Accuracy: 0.7143\n",
            "Epoch 86/100, Accuracy: 0.6825\n",
            "Epoch 87/100, Accuracy: 0.6905\n",
            "Epoch 88/100, Accuracy: 0.7063\n",
            "Epoch 89/100, Accuracy: 0.6984\n",
            "Epoch 90/100, Accuracy: 0.6667\n",
            "Epoch 91/100, Accuracy: 0.6905\n",
            "Epoch 92/100, Accuracy: 0.6905\n",
            "Epoch 93/100, Accuracy: 0.6984\n",
            "Epoch 94/100, Accuracy: 0.6667\n",
            "Epoch 95/100, Accuracy: 0.6984\n",
            "Epoch 96/100, Accuracy: 0.6984\n",
            "Epoch 97/100, Accuracy: 0.7143\n",
            "Epoch 98/100, Accuracy: 0.7222\n",
            "Epoch 99/100, Accuracy: 0.7222\n",
            "Epoch 100/100, Accuracy: 0.7063\n"
          ]
        }
      ]
    }
  ],
  "metadata": {
    "accelerator": "GPU",
    "colab": {
      "gpuType": "T4",
      "provenance": []
    },
    "kernelspec": {
      "display_name": "Python 3",
      "name": "python3"
    },
    "language_info": {
      "name": "python"
    }
  },
  "nbformat": 4,
  "nbformat_minor": 0
}