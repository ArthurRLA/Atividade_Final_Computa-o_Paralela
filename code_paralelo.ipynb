{
  "cells": [
    {
      "cell_type": "code",
      "execution_count": null,
      "metadata": {
        "collapsed": true,
        "id": "st6YFx09Ga9q"
      },
      "outputs": [],
      "source": [
        "!pip install pycuda\n",
        "!pip install matplotlib\n",
        "!pip install scikit-learn\n"
      ]
    },
    {
      "cell_type": "code",
      "source": [
        "from google.colab import drive\n",
        "drive.mount('/content/drive')"
      ],
      "metadata": {
        "id": "IaMfLdpIDqyX"
      },
      "execution_count": null,
      "outputs": []
    },
    {
      "cell_type": "code",
      "execution_count": null,
      "metadata": {
        "id": "IzhMTMxoHO1l"
      },
      "outputs": [],
      "source": [
        "import os\n",
        "import cv2\n",
        "import pandas as pd\n",
        "import numpy as np\n",
        "import matplotlib.pyplot as plt\n",
        "import pycuda.autoinit\n",
        "import pycuda.driver as cuda\n",
        "from pycuda.compiler import SourceModule\n",
        "from sklearn.preprocessing import OneHotEncoder\n",
        "from sklearn.model_selection import train_test_split\n",
        "import time\n",
        "\n",
        "HIDDEN_NODES = 128\n",
        "OUTPUT_NODES = 20\n",
        "LEARNING_RATE = 0.01\n",
        "NUM_EPOCHS = 100\n",
        "BATCH_SIZE = 64"
      ]
    },
    {
      "cell_type": "code",
      "source": [
        "base_path = '/content/drive/MyDrive/faces'\n",
        "def load_images(base_path):\n",
        "    images_30x32 = []\n",
        "    images_60x64 = []\n",
        "    images_120x128 = []\n",
        "    labels_30x32 = []\n",
        "    labels_60x64 = []\n",
        "    labels_120x128 = []\n",
        "\n",
        "    for person_folder in os.listdir(base_path):\n",
        "        person_path = os.path.join(base_path, person_folder)\n",
        "        if os.path.isdir(person_path):\n",
        "            for image_file in os.listdir(person_path):\n",
        "                if image_file.lower().endswith('.pgm'):\n",
        "                    image_path = os.path.join(person_path, image_file)\n",
        "                    image = cv2.imread(image_path, cv2.IMREAD_GRAYSCALE)\n",
        "                    if image is not None:\n",
        "                        if image.shape == (30, 32):\n",
        "                            images_30x32.append(image.flatten())\n",
        "                            labels_30x32.append(person_folder)\n",
        "                        elif image.shape == (60, 64):\n",
        "                            images_60x64.append(image.flatten())\n",
        "                            labels_60x64.append(person_folder)\n",
        "                        elif image.shape == (120, 128):\n",
        "                            images_120x128.append(image.flatten())\n",
        "                            labels_120x128.append(person_folder)\n",
        "\n",
        "\n",
        "    return (images_30x32, labels_30x32), (images_60x64, labels_60x64), (images_120x128, labels_120x128)\n",
        "\n",
        "(images_30x32, labels_30x32), (images_60x64, labels_60x64), (images_120x128, labels_120x128) = load_images(base_path)\n",
        "\n",
        "print(f\"Imagens 30x32: {len(images_30x32)}\")\n",
        "print(f\"Imagens 60x64: {len(images_60x64)}\")\n",
        "print(f\"Imagens 120x128: {len(images_120x128)}\")\n",
        "\n",
        "df_30x32 = pd.DataFrame(images_30x32)\n",
        "df_30x32['label'] = labels_30x32\n",
        "\n",
        "df_60x64 = pd.DataFrame(images_60x64)\n",
        "df_60x64['label'] = labels_60x64\n",
        "\n",
        "df_120x128 = pd.DataFrame(images_120x128)\n",
        "df_120x128['label'] = labels_120x128"
      ],
      "metadata": {
        "id": "Dnc3HiMwyHLi",
        "collapsed": true
      },
      "execution_count": null,
      "outputs": []
    },
    {
      "cell_type": "code",
      "source": [
        "def split_data(df):\n",
        "    if len(df) == 0:\n",
        "        return np.array([]), np.array([]), np.array([]), np.array([])\n",
        "    X = df.drop('label', axis=1).values\n",
        "    y = df['label'].values\n",
        "    X_train, X_val, y_train, y_val = train_test_split(X, y, test_size=0.2, random_state=42)\n",
        "    return X_train, X_val, y_train, y_val\n",
        "\n",
        "splits = {\n",
        "    '30x32': split_data(df_30x32),\n",
        "    '60x64': split_data(df_60x64),\n",
        "    '120x128': split_data(df_120x128)\n",
        "}"
      ],
      "metadata": {
        "id": "oz0OQbIGEnMn"
      },
      "execution_count": null,
      "outputs": []
    },
    {
      "cell_type": "code",
      "source": [
        "def get_cuda_source(input_nodes):\n",
        "    return f\"\"\"\n",
        "    #define INPUT_NODES {input_nodes}\n",
        "    #define HIDDEN_NODES {HIDDEN_NODES}\n",
        "    #define OUTPUT_NODES {OUTPUT_NODES}\n",
        "    #define LEARNING_RATE {LEARNING_RATE}\n",
        "\n",
        "    __device__ float sigmoid(float x) {{\n",
        "        return 1.0 / (1.0 + expf(-x));\n",
        "    }}\n",
        "\n",
        "    __global__ void forward_pass(float *input, float *hidden_weights, float *hidden_output, float *output_weights, float *final_output) {{\n",
        "        int idx = threadIdx.x;\n",
        "\n",
        "        if (idx < HIDDEN_NODES) {{\n",
        "            float sum = 0.0f;\n",
        "            for (int i = 0; i < INPUT_NODES; ++i) {{\n",
        "                sum += input[i] * hidden_weights[idx * INPUT_NODES + i];\n",
        "            }}\n",
        "            hidden_output[idx] = sigmoid(sum);\n",
        "        }}\n",
        "\n",
        "        __syncthreads();\n",
        "\n",
        "        if (idx < OUTPUT_NODES) {{\n",
        "            float sum = 0.0f;\n",
        "            for (int i = 0; i < HIDDEN_NODES; ++i) {{\n",
        "                sum += hidden_output[i] * output_weights[idx * HIDDEN_NODES + i];\n",
        "            }}\n",
        "            final_output[idx] = sigmoid(sum);\n",
        "        }}\n",
        "    }}\n",
        "\n",
        "    __global__ void backpropagation(float *input, float *hidden_weights, float *hidden_output, float *output_weights, float *final_output, float *target, float *hidden_delta, float *output_delta) {{\n",
        "        int idx = threadIdx.x;\n",
        "\n",
        "        if (idx < OUTPUT_NODES) {{\n",
        "            float error = target[idx] - final_output[idx];\n",
        "            output_delta[idx] = error * final_output[idx] * (1.0f - final_output[idx]);\n",
        "        }}\n",
        "\n",
        "        __syncthreads();\n",
        "\n",
        "        if (idx < HIDDEN_NODES) {{\n",
        "            float error = 0.0f;\n",
        "            for (int i = 0; i < OUTPUT_NODES; ++i) {{\n",
        "                error += output_delta[i] * output_weights[i * HIDDEN_NODES + idx];\n",
        "            }}\n",
        "            hidden_delta[idx] = error * hidden_output[idx] * (1.0f - hidden_output[idx]);\n",
        "        }}\n",
        "\n",
        "        __syncthreads();\n",
        "\n",
        "        if (idx < OUTPUT_NODES) {{\n",
        "            for (int i = 0; i < HIDDEN_NODES; ++i) {{\n",
        "                output_weights[idx * HIDDEN_NODES + i] += LEARNING_RATE * output_delta[idx] * hidden_output[i];\n",
        "            }}\n",
        "        }}\n",
        "\n",
        "        if (idx < HIDDEN_NODES) {{\n",
        "            for (int i = 0; i < INPUT_NODES; ++i) {{\n",
        "                hidden_weights[idx * INPUT_NODES + i] += LEARNING_RATE * hidden_delta[idx] * input[i];\n",
        "            }}\n",
        "        }}\n",
        "    }}\n",
        "    \"\"\"\n"
      ],
      "metadata": {
        "id": "b9f_0NdAE0fY"
      },
      "execution_count": null,
      "outputs": []
    },
    {
      "cell_type": "code",
      "source": [
        "resolution = '30x32'\n",
        "\n",
        "# MUDAR A RESOLUÇ˜AO\n",
        "INPUT_NODES = int(resolution.split('x')[0]) * int(resolution.split('x')[1])\n",
        "\n",
        "mod = SourceModule(get_cuda_source(INPUT_NODES))\n",
        "forward_pass = mod.get_function(\"forward_pass\")\n",
        "backpropagation = mod.get_function(\"backpropagation\")\n",
        "\n",
        "np.random.seed(42)\n",
        "hidden_weights = (np.random.rand(INPUT_NODES, HIDDEN_NODES) - 0.5).astype(np.float32)\n",
        "output_weights = (np.random.rand(HIDDEN_NODES, OUTPUT_NODES) - 0.5).astype(np.float32)\n",
        "\n",
        "d_input = cuda.mem_alloc(INPUT_NODES * np.float32().nbytes)\n",
        "d_hidden_weights = cuda.mem_alloc(hidden_weights.nbytes)\n",
        "d_output_weights = cuda.mem_alloc(output_weights.nbytes)\n",
        "d_hidden_output = cuda.mem_alloc(HIDDEN_NODES * np.float32().nbytes)\n",
        "d_final_output = cuda.mem_alloc(OUTPUT_NODES * np.float32().nbytes)\n",
        "d_target = cuda.mem_alloc(OUTPUT_NODES * np.float32().nbytes)\n",
        "d_hidden_delta = cuda.mem_alloc(HIDDEN_NODES * np.float32().nbytes)\n",
        "d_output_delta = cuda.mem_alloc(OUTPUT_NODES * np.float32().nbytes)\n",
        "\n",
        "cuda.memcpy_htod(d_hidden_weights, hidden_weights)\n",
        "cuda.memcpy_htod(d_output_weights, output_weights)\n"
      ],
      "metadata": {
        "id": "5ls7wZskE2s6"
      },
      "execution_count": null,
      "outputs": []
    },
    {
      "cell_type": "code",
      "source": [
        "encoder = OneHotEncoder(sparse_output=False)\n",
        "encoded_splits = {}\n",
        "y_train_encoded = encoder.fit_transform(splits[resolution][2].reshape(-1, 1))\n",
        "y_val_encoded = encoder.transform(splits[resolution][3].reshape(-1, 1))\n",
        "encoded_splits[resolution] = {\n",
        "    'X_train': splits[resolution][0],\n",
        "    'X_val': splits[resolution][1],\n",
        "    'y_train': y_train_encoded,\n",
        "    'y_val': y_val_encoded\n",
        "}\n",
        "def evaluate(X_val, y_val):\n",
        "    correct_predictions = 0\n",
        "    for i in range(len(X_val)):\n",
        "        cuda.memcpy_htod(d_input, X_val[i].astype(np.float32))\n",
        "        forward_pass(d_input, d_hidden_weights, d_hidden_output, d_output_weights, d_final_output, block=(max(HIDDEN_NODES, OUTPUT_NODES), 1, 1))\n",
        "        final_output = np.empty(OUTPUT_NODES, dtype=np.float32)\n",
        "        cuda.memcpy_dtoh(final_output, d_final_output)\n",
        "        if np.argmax(final_output) == np.argmax(y_val[i]):\n",
        "            correct_predictions += 1\n",
        "    accuracy = correct_predictions / len(X_val)\n",
        "    return accuracy\n"
      ],
      "metadata": {
        "id": "oh61-QQgE6VN"
      },
      "execution_count": null,
      "outputs": []
    },
    {
      "cell_type": "code",
      "source": [
        "accuracies = []\n",
        "start_time = time.time()\n",
        "X_train = encoded_splits[resolution]['X_train']\n",
        "X_val = encoded_splits[resolution]['X_val']\n",
        "y_train_encoded = encoded_splits[resolution]['y_train']\n",
        "y_val_encoded = encoded_splits[resolution]['y_val']\n",
        "\n",
        "threads_per_block = 128\n",
        "blocks_hidden = (HIDDEN_NODES + threads_per_block - 1) // threads_per_block\n",
        "blocks_output = (OUTPUT_NODES + threads_per_block - 1) // threads_per_block\n",
        "\n",
        "for epoch in range(NUM_EPOCHS):\n",
        "    for i in range(0, len(X_train), BATCH_SIZE):\n",
        "        batch_X = X_train[i:i+BATCH_SIZE]\n",
        "        batch_y = y_train_encoded[i:i+BATCH_SIZE]\n",
        "\n",
        "        for j in range(len(batch_X)):\n",
        "            cuda.memcpy_htod(d_input, batch_X[j].astype(np.float32))\n",
        "            cuda.memcpy_htod(d_target, batch_y[j].astype(np.float32))\n",
        "\n",
        "            forward_pass(d_input, d_hidden_weights, d_hidden_output, d_output_weights, d_final_output, block=(threads_per_block, 1, 1), grid=(blocks_hidden, 1, 1))\n",
        "            backpropagation(d_input, d_hidden_weights, d_hidden_output, d_output_weights, d_final_output, d_target, d_hidden_delta, d_output_delta, block=(threads_per_block, 1, 1), grid=(blocks_output, 1, 1))\n",
        "\n",
        "    accuracy = evaluate(X_val, y_val_encoded)\n",
        "    accuracies.append(accuracy)\n",
        "\n",
        "end_time = time.time()\n",
        "execution_time = end_time - start_time\n"
      ],
      "metadata": {
        "id": "ka2LnFdhE8nu"
      },
      "execution_count": null,
      "outputs": []
    }
  ],
  "metadata": {
    "accelerator": "GPU",
    "colab": {
      "gpuType": "T4",
      "provenance": []
    },
    "kernelspec": {
      "display_name": "Python 3",
      "name": "python3"
    },
    "language_info": {
      "name": "python"
    }
  },
  "nbformat": 4,
  "nbformat_minor": 0
}